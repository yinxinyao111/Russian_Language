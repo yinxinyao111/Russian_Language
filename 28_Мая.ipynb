{
 "cells": [
  {
   "cell_type": "markdown",
   "id": "62b3f765-062f-49c8-98c9-103c33038df2",
   "metadata": {},
   "source": [
    "New note!"
   ]
  }
 ],
 "metadata": {
  "kernelspec": {
   "display_name": "Python 3 (ipykernel)",
   "language": "python",
   "name": "python3"
  },
  "language_info": {
   "codemirror_mode": {
    "name": "ipython",
    "version": 3
   },
   "file_extension": ".py",
   "mimetype": "text/x-python",
   "name": "python",
   "nbconvert_exporter": "python",
   "pygments_lexer": "ipython3",
   "version": "3.12.2"
  }
 },
 "nbformat": 4,
 "nbformat_minor": 5
}
