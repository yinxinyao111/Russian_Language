{
 "cells": [
  {
   "cell_type": "markdown",
   "id": "2e9442bd-b06e-4a0a-9a24-b983e93b7842",
   "metadata": {},
   "source": [
    "Perfective: совершенный (передать)\n",
    "* an action that is completed or has a defined endpoint\n",
    "* Он передаст сообщение завтра.\n",
    "* Я передал тебе книгу.\n",
    "\t\n",
    "Imperfective: несовершенный (передавать)\n",
    "* Used when focusing on the process, duration, or repetition of the action.\n",
    "* Он всегда передаёт привет от семьи.\n",
    "* Мы передаём знания следующим поколениям.\n",
    "\n",
    "### New words:\n",
    "\n",
    "отдельный: separate, individual\n",
    "\n",
    "отдать: to give back\n",
    "* отдам, отдашь ,отдаст, отдадим, отдадите, отдадут\n",
    "\n",
    "\n",
    "\n",
    "\n",
    "\n",
    "\n",
    "\n",
    "\n",
    "\n",
    "\n",
    "\n",
    "\n",
    "\n"
   ]
  }
 ],
 "metadata": {
  "kernelspec": {
   "display_name": "Python 3 (ipykernel)",
   "language": "python",
   "name": "python3"
  },
  "language_info": {
   "codemirror_mode": {
    "name": "ipython",
    "version": 3
   },
   "file_extension": ".py",
   "mimetype": "text/x-python",
   "name": "python",
   "nbconvert_exporter": "python",
   "pygments_lexer": "ipython3",
   "version": "3.12.2"
  }
 },
 "nbformat": 4,
 "nbformat_minor": 5
}
