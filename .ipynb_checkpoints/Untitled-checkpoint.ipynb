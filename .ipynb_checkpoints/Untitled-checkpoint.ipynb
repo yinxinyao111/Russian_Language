{
 "cells": [
  {
   "cell_type": "code",
   "execution_count": null,
   "id": "acb1cac4-ce63-49b0-8a72-05e449fa5024",
   "metadata": {},
   "outputs": [],
   "source": [
    "New note!"
   ]
  }
 ],
 "metadata": {
  "kernelspec": {
   "display_name": "Python 3 (ipykernel)",
   "language": "python",
   "name": "python3"
  },
  "language_info": {
   "codemirror_mode": {
    "name": "ipython",
    "version": 3
   },
   "file_extension": ".py",
   "mimetype": "text/x-python",
   "name": "python",
   "nbconvert_exporter": "python",
   "pygments_lexer": "ipython3",
   "version": "3.12.2"
  }
 },
 "nbformat": 4,
 "nbformat_minor": 5
}
